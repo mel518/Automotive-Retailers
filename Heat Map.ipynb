{
 "cells": [
  {
   "cell_type": "code",
   "execution_count": null,
   "id": "28e0b42b",
   "metadata": {},
   "outputs": [],
   "source": [
    "import matplotlib.pyplot as plt\n",
    "import pandas as pd\n",
    "import numpy as np\n",
    "import requests\n",
    "import json\n",
    "import gmaps\n",
    "import os\n",
    "from pprint import pprint\n",
    "from api_keys import g_key\n",
    "gmaps.configure(api_key=g_key)"
   ]
  },
  {
   "cell_type": "code",
   "execution_count": null,
   "id": "5558293f",
   "metadata": {},
   "outputs": [],
   "source": [
    "city_data = pd.read_csv(\"CDKheatmap.csv\")\n",
    "cdkstores = city_data.loc[city_data['ShippingCountry'] == 'United States']\n",
    "cdkstores"
   ]
  },
  {
   "cell_type": "code",
   "execution_count": null,
   "id": "485c7a54",
   "metadata": {},
   "outputs": [],
   "source": [
    "\n",
    "for index, row in cdkstores.iterrows():\n",
    "    target_city = row['ShippingCity']\n",
    "    \n",
    "    target_url = f\"https://maps.googleapis.com/maps/api/geocode/json?address={target_city}&key={g_key}\"\n",
    "    geo_data = requests.get(target_url).json()\n",
    "    print(geo_data)\n"
   ]
  },
  {
   "cell_type": "code",
   "execution_count": null,
   "id": "17aff55f",
   "metadata": {},
   "outputs": [],
   "source": []
  }
 ],
 "metadata": {
  "kernelspec": {
   "display_name": "Python 3 (ipykernel)",
   "language": "python",
   "name": "python3"
  },
  "language_info": {
   "codemirror_mode": {
    "name": "ipython",
    "version": 3
   },
   "file_extension": ".py",
   "mimetype": "text/x-python",
   "name": "python",
   "nbconvert_exporter": "python",
   "pygments_lexer": "ipython3",
   "version": "3.9.7"
  }
 },
 "nbformat": 4,
 "nbformat_minor": 5
}
