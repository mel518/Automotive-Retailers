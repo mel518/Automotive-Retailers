{
 "cells": [
  {
   "cell_type": "code",
   "execution_count": 1,
   "id": "21f7f494",
   "metadata": {},
   "outputs": [],
   "source": [
    "from joblib import dump, load\n",
    "import gmaps\n",
    "import numpy as np\n",
    "import pandas as pd\n",
    "from api_keys import g_key"
   ]
  },
  {
   "cell_type": "code",
   "execution_count": 2,
   "id": "5774b83d",
   "metadata": {},
   "outputs": [],
   "source": [
    "loaded_data = load('EEResponses')"
   ]
  },
  {
   "cell_type": "code",
   "execution_count": 3,
   "id": "cb264944",
   "metadata": {},
   "outputs": [
    {
     "data": {
      "text/plain": [
       "5211"
      ]
     },
     "execution_count": 3,
     "metadata": {},
     "output_type": "execute_result"
    }
   ],
   "source": [
    "len(loaded_data)"
   ]
  },
  {
   "cell_type": "code",
   "execution_count": 4,
   "id": "58fec53c",
   "metadata": {},
   "outputs": [
    {
     "name": "stdout",
     "output_type": "stream",
     "text": [
      "must be null value\n",
      "must be null value\n",
      "must be null value\n",
      "must be null value\n",
      "must be null value\n",
      "must be null value\n",
      "must be null value\n",
      "must be null value\n",
      "must be null value\n",
      "must be null value\n",
      "must be null value\n",
      "must be null value\n"
     ]
    }
   ],
   "source": [
    "lats = []\n",
    "longs = []\n",
    "for x in loaded_data:\n",
    "    try:\n",
    "        lats.append(x['results'][0]['geometry']['location']['lat'])\n",
    "        longs.append(x['results'][0]['geometry']['location']['lng'])\n",
    "    except: \n",
    "        print(\"must be null value\")"
   ]
  },
  {
   "cell_type": "code",
   "execution_count": 5,
   "id": "83eb5bb2",
   "metadata": {},
   "outputs": [],
   "source": [
    "coordinates = list(zip(lats, longs))"
   ]
  },
  {
   "cell_type": "code",
   "execution_count": 6,
   "id": "763acdb0",
   "metadata": {
    "scrolled": true
   },
   "outputs": [
    {
     "data": {
      "application/vnd.jupyter.widget-view+json": {
       "model_id": "5413586e2f264f9aac02c2180fc1e1da",
       "version_major": 2,
       "version_minor": 0
      },
      "text/plain": [
       "Figure(layout=FigureLayout(height='420px'))"
      ]
     },
     "metadata": {},
     "output_type": "display_data"
    }
   ],
   "source": [
    "fig = gmaps.figure()\n",
    "\n",
    "heat_layer = gmaps.heatmap_layer(coordinates, dissipating=False, max_intensity=100, point_radius = 1)\n",
    "\n",
    "fig.add_layer(heat_layer)\n",
    "\n",
    "fig"
   ]
  },
  {
   "cell_type": "code",
   "execution_count": 7,
   "id": "dfd3da5f",
   "metadata": {
    "scrolled": true
   },
   "outputs": [
    {
     "data": {
      "application/vnd.jupyter.widget-view+json": {
       "model_id": "6d3982f1b55d46299ba774dc193b1585",
       "version_major": 2,
       "version_minor": 0
      },
      "text/plain": [
       "Figure(layout=FigureLayout(height='420px'))"
      ]
     },
     "metadata": {},
     "output_type": "display_data"
    }
   ],
   "source": [
    "new = gmaps.symbol_layer(coordinates, fill_color='red', stroke_color='red', scale=2)\n",
    "fig = gmaps.figure()\n",
    "fig.add_layer(new)\n",
    "fig"
   ]
  },
  {
   "cell_type": "code",
   "execution_count": null,
   "id": "0bf7395b",
   "metadata": {},
   "outputs": [],
   "source": []
  }
 ],
 "metadata": {
  "kernelspec": {
   "display_name": "Python 3 (ipykernel)",
   "language": "python",
   "name": "python3"
  },
  "language_info": {
   "codemirror_mode": {
    "name": "ipython",
    "version": 3
   },
   "file_extension": ".py",
   "mimetype": "text/x-python",
   "name": "python",
   "nbconvert_exporter": "python",
   "pygments_lexer": "ipython3",
   "version": "3.9.7"
  }
 },
 "nbformat": 4,
 "nbformat_minor": 5
}
